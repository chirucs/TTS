{
  "cells": [
    {
      "cell_type": "code",
      "execution_count": null,
      "metadata": {
        "id": "JW8dPPD0pQBX"
      },
      "outputs": [],
      "source": [
        "%matplotlib inline"
      ]
    },
    {
      "cell_type": "markdown",
      "metadata": {
        "id": "EroyN_OqpQBY"
      },
      "source": [
        "\n",
        "# Text-to-speech with torchaudio\n",
        "\n",
        "**Author**: [Yao-Yuan Yang](https://github.com/yangarbiter)_, [Moto\n",
        "Hira](moto@fb.com)_\n"
      ]
    },
    {
      "cell_type": "markdown",
      "metadata": {
        "id": "vitkiGEdpQBZ"
      },
      "source": [
        "## Overview\n",
        "\n",
        "This tutorial shows how to build text-to-speech pipeline, using the\n",
        "pretrained Tacotron2 in torchaudio.\n",
        "\n",
        "The text-to-speech pipeline goes as follows: 1. Text preprocessing\n",
        "\n",
        "First, the input text is encoded into a list of symbols. In this\n",
        "tutorial, we will use English characters and phonemes as the symbols.\n",
        "\n",
        "2. Spectrogram generation\n",
        "\n",
        "From the encoded text, a spectrogram is generated. We use ``Tacotron2``\n",
        "model for this.\n",
        "\n",
        "3. Time-domain conversion\n",
        "\n",
        "The last step is converting the spectrogram into the waveform. The\n",
        "process to generate speech from spectrogram is also called Vocoder. In\n",
        "this tutorial, three different vocoders are used,\n",
        "```WaveRNN`[](https://pytorch.org/audio/stable/models/wavernn.html)_,\n",
        "```Griffin-Lim`[](https://pytorch.org/audio/stable/transforms.html#griffinlim)_,\n",
        "and\n",
        "```Nvidia's WaveGlow`[](https://pytorch.org/hub/nvidia_deeplearningexamples_tacotron2/)_.\n",
        "\n",
        "The following figure illustrates the whole process.\n",
        "\n",
        "<img src=\"https://download.pytorch.org/torchaudio/tutorial-assets/tacotron2_tts_pipeline.png\">\n",
        "\n",
        "\n"
      ]
    },
    {
      "cell_type": "markdown",
      "metadata": {
        "id": "xUZwQUN-pQBa"
      },
      "source": [
        "## Preparation\n",
        "\n",
        "First, we install the necessary dependencies. In addition to\n",
        "``torchaudio``, ``DeepPhonemizer`` is required to perform phoneme-based\n",
        "encoding.\n",
        "\n",
        "\n"
      ]
    },
    {
      "cell_type": "code",
      "execution_count": null,
      "metadata": {
        "id": "jiDQJ7MQpQBa"
      },
      "outputs": [],
      "source": [
        "%%bash\n",
        "pip3 install deep_phonemizer"
      ]
    },
    {
      "cell_type": "code",
      "execution_count": null,
      "metadata": {
        "id": "u7lynbRLpQBa"
      },
      "outputs": [],
      "source": [
        "import torch\n",
        "import torchaudio\n",
        "import matplotlib.pyplot as plt\n",
        "\n",
        "import IPython\n",
        "\n",
        "print(torch.__version__)\n",
        "print(torchaudio.__version__)\n",
        "\n",
        "torch.random.manual_seed(0)\n",
        "device = \"cuda\" if torch.cuda.is_available() else \"cpu\""
      ]
    },
    {
      "cell_type": "markdown",
      "metadata": {
        "id": "NqsnP6xupQBb"
      },
      "source": [
        "## Text Processing\n",
        "\n",
        "\n"
      ]
    },
    {
      "cell_type": "markdown",
      "metadata": {
        "id": "joIseV2KpQBb"
      },
      "source": [
        "### Character-based encoding\n",
        "\n",
        "In this section, we will go through how the character-based encoding\n",
        "works.\n",
        "\n",
        "Since the pre-trained Tacotron2 model expects specific set of symbol\n",
        "tables, the same functionalities available in ``torchaudio``. This\n",
        "section is more for the explanation of the basis of encoding.\n",
        "\n",
        "Firstly, we define the set of symbols. For example, we can use\n",
        "``'_-!\\'(),.:;? abcdefghijklmnopqrstuvwxyz'``. Then, we will map the\n",
        "each character of the input text into the index of the corresponding\n",
        "symbol in the table.\n",
        "\n",
        "The following is an example of such processing. In the example, symbols\n",
        "that are not in the table are ignored.\n",
        "\n",
        "\n"
      ]
    },
    {
      "cell_type": "code",
      "execution_count": null,
      "metadata": {
        "id": "qa7Q2NVNpQBb"
      },
      "outputs": [],
      "source": [
        "symbols = '_-!\\'(),.:;? abcdefghijklmnopqrstuvwxyz'\n",
        "look_up = {s: i for i, s in enumerate(symbols)}\n",
        "symbols = set(symbols)\n",
        "\n",
        "def text_to_sequence(text):\n",
        "  text = text.lower()\n",
        "  return [look_up[s] for s in text if s in symbols]\n",
        "\n",
        "text = \"Hello world! Text to speech!\"\n",
        "print(text_to_sequence(text))"
      ]
    },
    {
      "cell_type": "markdown",
      "metadata": {
        "id": "eDeWVuyIpQBc"
      },
      "source": [
        "As mentioned in the above, the symbol table and indices must match\n",
        "what the pretrained Tacotron2 model expects. ``torchaudio`` provides the\n",
        "transform along with the pretrained model. For example, you can\n",
        "instantiate and use such transform as follow.\n",
        "\n",
        "\n"
      ]
    },
    {
      "cell_type": "code",
      "execution_count": null,
      "metadata": {
        "id": "-OgnqXRupQBc"
      },
      "outputs": [],
      "source": [
        "processor = torchaudio.pipelines.TACOTRON2_WAVERNN_CHAR_LJSPEECH.get_text_processor()\n",
        "\n",
        "text = \"Hello world! Text to speech!\"\n",
        "processed, lengths = processor(text)\n",
        "\n",
        "print(processed)\n",
        "print(lengths)"
      ]
    },
    {
      "cell_type": "markdown",
      "metadata": {
        "id": "SPVrnAe7pQBc"
      },
      "source": [
        "The ``processor`` object takes either a text or list of texts as inputs.\n",
        "When a list of texts are provided, the returned ``lengths`` variable\n",
        "represents the valid length of each processed tokens in the output\n",
        "batch.\n",
        "\n",
        "The intermediate representation can be retrieved as follow.\n",
        "\n",
        "\n"
      ]
    },
    {
      "cell_type": "code",
      "execution_count": null,
      "metadata": {
        "id": "f55TT6C8pQBc"
      },
      "outputs": [],
      "source": [
        "print([processor.tokens[i] for i in processed[0, :lengths[0]]])"
      ]
    },
    {
      "cell_type": "markdown",
      "metadata": {
        "id": "eKknGHCxpQBc"
      },
      "source": [
        "### Phoneme-based encoding\n",
        "\n",
        "Phoneme-based encoding is similar to character-based encoding, but it\n",
        "uses a symbol table based on phonemes and a G2P (Grapheme-to-Phoneme)\n",
        "model.\n",
        "\n",
        "The detail of the G2P model is out of scope of this tutorial, we will\n",
        "just look at what the conversion looks like.\n",
        "\n",
        "Similar to the case of character-based encoding, the encoding process is\n",
        "expected to match what a pretrained Tacotron2 model is trained on.\n",
        "``torchaudio`` has an interface to create the process.\n",
        "\n",
        "The following code illustrates how to make and use the process. Behind\n",
        "the scene, a G2P model is created using ``DeepPhonemizer`` package, and\n",
        "the pretrained weights published by the author of ``DeepPhonemizer`` is\n",
        "fetched.\n",
        "\n",
        "\n"
      ]
    },
    {
      "cell_type": "code",
      "execution_count": null,
      "metadata": {
        "id": "9glwGszMpQBc"
      },
      "outputs": [],
      "source": [
        "bundle = torchaudio.pipelines.TACOTRON2_WAVERNN_PHONE_LJSPEECH\n",
        "\n",
        "processor = bundle.get_text_processor()\n",
        "\n",
        "text = \"Hello world! Text to speech!\"\n",
        "with torch.inference_mode():\n",
        "  processed, lengths = processor(text)\n",
        "\n",
        "print(processed)\n",
        "print(lengths)"
      ]
    },
    {
      "cell_type": "markdown",
      "metadata": {
        "id": "rKuMLo4QpQBd"
      },
      "source": [
        "Notice that the encoded values are different from the example of\n",
        "character-based encoding.\n",
        "\n",
        "The intermediate representation looks like the following.\n",
        "\n",
        "\n"
      ]
    },
    {
      "cell_type": "code",
      "execution_count": null,
      "metadata": {
        "id": "v0FsoNBgpQBd"
      },
      "outputs": [],
      "source": [
        "print([processor.tokens[i] for i in processed[0, :lengths[0]]])"
      ]
    },
    {
      "cell_type": "markdown",
      "metadata": {
        "id": "j2KkWoFbpQBd"
      },
      "source": [
        "## Spectrogram Generation\n",
        "\n",
        "``Tacotron2`` is the model we use to generate spectrogram from the\n",
        "encoded text. For the detail of the model, please refer to [the\n",
        "paper](https://arxiv.org/abs/1712.05884)_.\n",
        "\n",
        "It is easy to instantiate a Tacotron2 model with pretrained weight,\n",
        "however, note that the input to Tacotron2 models are processed by the\n",
        "matching text processor.\n",
        "\n",
        "``torchaudio`` bundles the matching models and processors together so\n",
        "that it is easy to create the pipeline.\n",
        "\n",
        "(For the available bundles, and its usage, please refer to [the\n",
        "documentation](https://pytorch.org/audio/stable/pipelines.html#tacotron2-text-to-speech)_.)\n",
        "\n",
        "\n"
      ]
    },
    {
      "cell_type": "code",
      "execution_count": null,
      "metadata": {
        "id": "lnl-UHKZpQBd"
      },
      "outputs": [],
      "source": [
        "bundle = torchaudio.pipelines.TACOTRON2_WAVERNN_PHONE_LJSPEECH\n",
        "processor = bundle.get_text_processor()\n",
        "tacotron2 = bundle.get_tacotron2().to(device)\n",
        "\n",
        "text = \"Hello world! Text to speech!\"\n",
        "\n",
        "with torch.inference_mode():\n",
        "  processed, lengths = processor(text)\n",
        "  processed = processed.to(device)\n",
        "  lengths = lengths.to(device)\n",
        "  spec, _, _ = tacotron2.infer(processed, lengths)\n",
        "\n",
        "\n",
        "plt.imshow(spec[0].cpu().detach())"
      ]
    },
    {
      "cell_type": "markdown",
      "metadata": {
        "id": "o6jMCpYSpQBd"
      },
      "source": [
        "Note that ``Tacotron2.infer`` method perfoms multinomial sampling,\n",
        "therefor, the process of generating the spectrogram incurs randomness.\n",
        "\n",
        "\n"
      ]
    },
    {
      "cell_type": "code",
      "execution_count": null,
      "metadata": {
        "id": "RzrbLZQrpQBd"
      },
      "outputs": [],
      "source": [
        "for _ in range(3):\n",
        "  with torch.inference_mode():\n",
        "    spec, spec_lengths, _ = tacotron2.infer(processed, lengths)\n",
        "  plt.imshow(spec[0].cpu().detach())\n",
        "  plt.show()"
      ]
    },
    {
      "cell_type": "markdown",
      "metadata": {
        "id": "fFInfa6spQBd"
      },
      "source": [
        "## Waveform Generation\n",
        "\n",
        "Once the spectrogram is generated, the last process is to recover the\n",
        "waveform from the spectrogram.\n",
        "\n",
        "``torchaudio`` provides vocoders based on ``GriffinLim`` and\n",
        "``WaveRNN``.\n",
        "\n",
        "\n"
      ]
    },
    {
      "cell_type": "markdown",
      "metadata": {
        "id": "T12tQ3WgpQBd"
      },
      "source": [
        "### WaveRNN\n",
        "\n",
        "Continuing from the previous section, we can instantiate the matching\n",
        "WaveRNN model from the same bundle.\n",
        "\n",
        "\n"
      ]
    },
    {
      "cell_type": "code",
      "execution_count": null,
      "metadata": {
        "id": "d-R8CEwppQBd"
      },
      "outputs": [],
      "source": [
        "bundle = torchaudio.pipelines.TACOTRON2_WAVERNN_PHONE_LJSPEECH\n",
        "\n",
        "processor = bundle.get_text_processor()\n",
        "tacotron2 = bundle.get_tacotron2().to(device)\n",
        "vocoder = bundle.get_vocoder().to(device)\n",
        "\n",
        "text = \"Hello world! Text to speech!\"\n",
        "\n",
        "with torch.inference_mode():\n",
        "  processed, lengths = processor(text)\n",
        "  processed = processed.to(device)\n",
        "  lengths = lengths.to(device)\n",
        "  spec, spec_lengths, _ = tacotron2.infer(processed, lengths)\n",
        "  waveforms, lengths = vocoder(spec, spec_lengths)\n",
        "\n",
        "torchaudio.save(\"output_wavernn.wav\", waveforms[0:1].cpu(), sample_rate=vocoder.sample_rate)\n",
        "IPython.display.display(IPython.display.Audio(\"output_wavernn.wav\"))"
      ]
    },
    {
      "cell_type": "markdown",
      "metadata": {
        "id": "FiqFHon-pQBe"
      },
      "source": [
        "### Griffin-Lim\n",
        "\n",
        "Using the Griffin-Lim vocoder is same as WaveRNN. You can instantiate\n",
        "the vocode object with ``get_vocoder`` method and pass the spectrogram.\n",
        "\n",
        "\n"
      ]
    },
    {
      "cell_type": "code",
      "execution_count": null,
      "metadata": {
        "id": "iEFn8NXXpQBe"
      },
      "outputs": [],
      "source": [
        "bundle = torchaudio.pipelines.TACOTRON2_GRIFFINLIM_PHONE_LJSPEECH\n",
        "\n",
        "processor = bundle.get_text_processor()\n",
        "tacotron2 = bundle.get_tacotron2().to(device)\n",
        "vocoder = bundle.get_vocoder().to(device)\n",
        "\n",
        "with torch.inference_mode():\n",
        "  processed, lengths = processor(text)\n",
        "  processed = processed.to(device)\n",
        "  lengths = lengths.to(device)\n",
        "  spec, spec_lengths, _ = tacotron2.infer(processed, lengths)\n",
        "waveforms, lengths = vocoder(spec, spec_lengths)\n",
        "\n",
        "torchaudio.save(\"output_griffinlim.wav\", waveforms[0:1].cpu(), sample_rate=vocoder.sample_rate)\n",
        "IPython.display.display(IPython.display.Audio(\"output_griffinlim.wav\"))"
      ]
    },
    {
      "cell_type": "markdown",
      "metadata": {
        "id": "0a3gqEk2pQBe"
      },
      "source": [
        "### Waveglow\n",
        "\n",
        "Waveglow is a vocoder published by Nvidia. The pretrained weights are\n",
        "published on Torch Hub. One can instantiate the model using ``torch.hub``\n",
        "module.\n",
        "\n",
        "\n"
      ]
    },
    {
      "cell_type": "code",
      "execution_count": null,
      "metadata": {
        "id": "h-hCf0HtpQBe"
      },
      "outputs": [],
      "source": [
        "if torch.cuda.is_available():\n",
        "  waveglow = torch.hub.load('NVIDIA/DeepLearningExamples:torchhub', 'nvidia_waveglow', model_math='fp32')\n",
        "else:\n",
        "  # Workaround to load model mapped on GPU\n",
        "  # https://stackoverflow.com/a/61840832\n",
        "  waveglow = torch.hub.load(\n",
        "      \"NVIDIA/DeepLearningExamples:torchhub\",\n",
        "      \"nvidia_waveglow\",\n",
        "      model_math=\"fp32\",\n",
        "      pretrained=False,\n",
        "  )\n",
        "  checkpoint = torch.hub.load_state_dict_from_url(\n",
        "      \"https://api.ngc.nvidia.com/v2/models/nvidia/waveglow_ckpt_fp32/versions/19.09.0/files/nvidia_waveglowpyt_fp32_20190427\",\n",
        "      progress=False,\n",
        "      map_location=device,\n",
        "  )\n",
        "  state_dict = {key.replace(\"module.\", \"\"): value for key, value in checkpoint[\"state_dict\"].items()}\n",
        "\n",
        "waveglow = waveglow.remove_weightnorm(waveglow)\n",
        "waveglow = waveglow.to(device)\n",
        "waveglow.eval()\n",
        "\n",
        "with torch.no_grad():\n",
        "  waveforms = waveglow.infer(spec)\n",
        "\n",
        "torchaudio.save(\"output_waveglow.wav\", waveforms[0:1].cpu(), sample_rate=22050)\n",
        "IPython.display.display(IPython.display.Audio(\"output_waveglow.wav\"))"
      ]
    }
  ],
  "metadata": {
    "kernelspec": {
      "display_name": "Python 3",
      "language": "python",
      "name": "python3"
    },
    "language_info": {
      "codemirror_mode": {
        "name": "ipython",
        "version": 3
      },
      "file_extension": ".py",
      "mimetype": "text/x-python",
      "name": "python",
      "nbconvert_exporter": "python",
      "pygments_lexer": "ipython3",
      "version": "3.10.4"
    },
    "colab": {
      "provenance": []
    }
  },
  "nbformat": 4,
  "nbformat_minor": 0
}